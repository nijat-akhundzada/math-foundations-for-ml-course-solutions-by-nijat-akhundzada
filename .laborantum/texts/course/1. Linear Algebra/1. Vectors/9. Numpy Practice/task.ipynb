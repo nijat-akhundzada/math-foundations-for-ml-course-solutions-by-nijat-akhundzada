{
    "cells": [
        {
            "cell_type": "markdown",
            "metadata": {},
            "source": [
                "# Numpy Practice\n",
                "\n",
                "In this task we will work with the following tensors:\n",
                "\n",
                "1. <img src=\"images\\img.png\" width=\"350\" />\n",
                "2. <img src=\"images\\img_1.png\" width=\"350\" />\n",
                "3. <img src=\"images\\img_2.png\" width=\"350\" />\n",
                "4. <img src=\"images\\img_3.png\" width=\"350\" />"
            ]
        },
        {
            "cell_type": "code",
            "execution_count": 2,
            "metadata": {},
            "outputs": [],
            "source": [
                "import numpy as np\n",
                "import json_tricks\n",
                "import lovely_numpy as ln"
            ]
        },
        {
            "cell_type": "code",
            "execution_count": 3,
            "metadata": {},
            "outputs": [],
            "source": [
                "answer = {}"
            ]
        },
        {
            "cell_type": "markdown",
            "metadata": {},
            "source": [
                "For the sake of visualization, I will add a vector `x` below on which I will demonstrate how operations wit vectors work. Your task will be to apply necessary fucntions where it is needed to do so."
            ]
        },
        {
            "cell_type": "code",
            "execution_count": 4,
            "metadata": {},
            "outputs": [],
            "source": [
                "x = np.array([0, 1, 2, 3, 4, 5]) ** 2"
            ]
        },
        {
            "cell_type": "markdown",
            "metadata": {},
            "source": [
                "# 1. Build numpy vectors"
            ]
        },
        {
            "cell_type": "markdown",
            "metadata": {},
            "source": [
                "Firstly let us write numpy for the vectors that are enumerated in the task in form of list of numpy tensors\n",
                "\n",
                "For instance, for the vector \n",
                "$$\\mathbf x = \n",
                "\\begin{bmatrix}\n",
                "1 \\\\\n",
                "2 \\\\\n",
                "3 \n",
                "\\end{bmatrix},$$\n",
                "the answer should be ```np.array([1, 2, 3])```."
            ]
        },
        {
            "cell_type": "code",
            "execution_count": 5,
            "metadata": {},
            "outputs": [],
            "source": [
                "answer['vectors'] = [\n",
                "    np.array([1, 2, 3]),\n",
                "]\n"
            ]
        },
        {
            "cell_type": "markdown",
            "metadata": {},
            "source": [
                "# 2. Get operations with vectors (slicing)\n",
                "\n",
                "Vectors you can:\n",
                "- index\n",
                "    - `x[3]` (returns corresponding coordinate)\n",
                "\n",
                "- slice, \n",
                "    - `x[2:4]` (returns vector of corresponding coordinates from 2nd to 4th (non-inlusively))\n",
                "    - `x[:3]` (extractsall coordinates up to 3rd)\n",
                "    - `x[3:]` (extracts coordinates from 3rd an further)\n",
                "\n",
                "- slice with stride\n",
                "    - `x[1:5:2]` (extracts all the coordinates from 1st to 5th (non-inclusively) with stride 2)\n",
                "    - `x[::2]` (extracts every second coordinate)\n",
                "    - `x[::-1]` (inverts a vector due to -1 stride)\n",
                "\n",
                "- index a vector with another vector or list\n",
                "    - `x[[1, 2, 5]]` will output 1st, 2nd and 5th coordinates\n",
                "\n",
                "- index a vector using a binary mask, for instance\n",
                "    - `x[x > 4]` will get all of the coordinates that are larger than 4 (`x > 4` returns `[False, False, False, True, True, True]`) "
            ]
        },
        {
            "cell_type": "code",
            "execution_count": 6,
            "metadata": {},
            "outputs": [
                {
                    "name": "stdout",
                    "output_type": "stream",
                    "text": [
                        "x :\t\t [ 0  1  4  9 16 25]\n",
                        "x[3] :\t\t 9\n",
                        "x[2:4] :\t [4 9]\n",
                        "x[:3] :\t\t [0 1 4]\n",
                        "x[3:] :\t\t [ 9 16 25]\n",
                        "x[1:5:2] :\t [1 9]\n",
                        "x[2:] :\t\t [ 4  9 16 25]\n",
                        "x[::2] :\t [ 0  4 16]\n",
                        "x[::-1] :\t [25 16  9  4  1  0]\n",
                        "x[[1, 2, 5]] :\t [ 1  4 25]\n",
                        "x[x > 4] :\t [ 9 16 25]\n"
                    ]
                }
            ],
            "source": [
                "print('x :\\t\\t',  x)\n",
                "print('x[3] :\\t\\t', x[3])\n",
                "print('x[2:4] :\\t', x[2:4] )\n",
                "print('x[:3] :\\t\\t', x[:3])\n",
                "print('x[3:] :\\t\\t', x[3:])\n",
                "print('x[1:5:2] :\\t', x[1:5:2])\n",
                "print('x[2:] :\\t\\t', x[2:])\n",
                "print('x[::2] :\\t', x[::2])\n",
                "print('x[::-1] :\\t', x[::-1])\n",
                "print('x[[1, 2, 5]] :\\t', x[[1, 2, 5]])\n",
                "print('x[x > 4] :\\t', x[x > 4])\n"
            ]
        },
        {
            "cell_type": "markdown",
            "metadata": {},
            "source": [
                "## Task\n",
                "\n",
                "For exercise, create a list containing:\n",
                "- 0th coordinate of last vector in the exercise\n",
                "- last coordinate of last vector in the exercise\n",
                "- all coordinates with even indices of the last vector in the exercise\n",
                "- all coordinates with odd indices of the last vector in the exercise\n",
                "- inverted last vector\n",
                "- 1st, 0th and 4th coordinates of vector in vector"
            ]
        },
        {
            "cell_type": "code",
            "execution_count": 7,
            "metadata": {},
            "outputs": [],
            "source": [
                "answer['slices'] = [\n",
                "    x[0],\n",
                "    x[-1],\n",
                "    x[0::2],\n",
                "    x[1::2],\n",
                "    x[::-1],\n",
                "    x[[1,0,4]]\n",
                "]"
            ]
        },
        {
            "cell_type": "markdown",
            "metadata": {},
            "source": [
                "# 3. Get operations for vectors"
            ]
        },
        {
            "cell_type": "markdown",
            "metadata": {},
            "source": [
                "- set and get values with index operators \n",
                "    - `x[3] = 1` -- your vector 3rd coordinate will be set to 1\n",
                "    - `x[2:5] = 1` -- sets all of the coordinates from 2nd to 5th to 1\n",
                "    - you can use any other indexing method to set the coordinates to a specified value\n",
                "\n",
                "\n",
                "It is very important to remember that by default numpy copies are **shallow**, meaning that code\n",
                "```\n",
                "y = x\n",
                "y[1] = 3\n",
                "```\n",
                "\n",
                "whill change 1st coordinate for vector named `x` as `x` and `y` ar basically the same vector with two names\n",
                "\n",
                "To avoid this, there is a `x.copy()` method"
            ]
        },
        {
            "cell_type": "code",
            "execution_count": 8,
            "metadata": {},
            "outputs": [
                {
                    "name": "stdout",
                    "output_type": "stream",
                    "text": [
                        "Shallow copy\n",
                        "x [ 0  1  4  9 16 25]\n",
                        "y [ 0  1  4  9 16 25]\n",
                        "x [10  1  4  9 16 25]\n",
                        "y [10  1  4  9 16 25]\n",
                        "Deep copy\n",
                        "x [ 0  1  4  9 16 25]\n",
                        "y [10  1  4  9 16 25]\n"
                    ]
                }
            ],
            "source": [
                "print('Shallow copy')\n",
                "print('x', x)\n",
                "y = x\n",
                "print('y', y)\n",
                "y[0] = 10\n",
                "print('x', x)\n",
                "print('y', y)\n",
                "\n",
                "x[0] = 0\n",
                "\n",
                "print('Deep copy')\n",
                "y = x.copy()\n",
                "y[0] = 10\n",
                "print('x', x)\n",
                "print('y', y)\n"
            ]
        },
        {
            "cell_type": "markdown",
            "metadata": {},
            "source": [
                "## Task \n",
                "\n",
                "For the last vector create deep copies with:\n",
                "- 3rd coordinate set to 1\n",
                "- 2-4th coordinates including the last set to 10\n",
                "- Every even coordinate set to 2\n",
                "- Every odd coordinate set to 3\n",
                "- Last coordinate set to -1\n",
                "- 0, 1 and last coordinates set to -10\n",
                "- All coordinates that are smaller than 1 should be set to 0"
            ]
        },
        {
            "cell_type": "code",
            "execution_count": 29,
            "metadata": {},
            "outputs": [
                {
                    "ename": "SyntaxError",
                    "evalue": "cannot assign to subscript here. Maybe you meant '==' instead of '='? (2919509614.py, line 2)",
                    "output_type": "error",
                    "traceback": [
                        "  \u001b[36mCell\u001b[39m\u001b[36m \u001b[39m\u001b[32mIn[29]\u001b[39m\u001b[32m, line 2\u001b[39m\n\u001b[31m    \u001b[39m\u001b[31mx[3]=1,\u001b[39m\n    ^\n\u001b[31mSyntaxError\u001b[39m\u001b[31m:\u001b[39m cannot assign to subscript here. Maybe you meant '==' instead of '='?\n"
                    ]
                }
            ],
            "source": [
                "\n",
                "answer['deep_copy'] = [\n",
                "    x[3]=1,\n",
                "    x[2:5]=10,\n",
                "    x[-1]=10,\n",
                "    x[0::2]=2,\n",
                "    x[1::2]=3,\n",
                "    x[-1]=-1\n",
                "    x[0:2],\n",
                "    x[x<1]=0\n",
                "]"
            ]
        },
        {
            "cell_type": "markdown",
            "metadata": {},
            "source": [
                "# 4. Checking properties for Numpy arrays"
            ]
        },
        {
            "cell_type": "markdown",
            "metadata": {},
            "source": [
                "You can check properties of an array `x` with the following commands:\n",
                "- `x.shape` checks shape of array\n",
                "- `x.ndim` checks number of dimensions of an array (is it 1d table or 2d table, or 3d table)\n",
                "- `x.size` checks number of elements\n",
                "- `x.dtype` checks data type of the elements\n",
                "- `x.itemsize` checks number of bits for every element\n",
                "- `x.nbytes` checks whole memory occupied by the array"
            ]
        },
        {
            "cell_type": "code",
            "execution_count": 10,
            "metadata": {},
            "outputs": [
                {
                    "name": "stdout",
                    "output_type": "stream",
                    "text": [
                        "x.shape : \t (6,)\n",
                        "x.ndim : \t 1\n",
                        "x.size : \t 6\n",
                        "x.dtype : \t int64\n",
                        "x.itemsize : \t 8\n",
                        "x.nbytes : \t 48\n"
                    ]
                }
            ],
            "source": [
                "print('x.shape : \\t', x.shape)\n",
                "print('x.ndim : \\t', x.ndim)\n",
                "print('x.size : \\t', x.size)\n",
                "print('x.dtype : \\t', x.dtype)\n",
                "print('x.itemsize : \\t', x.itemsize)\n",
                "print('x.nbytes : \\t', x.nbytes)\n"
            ]
        },
        {
            "cell_type": "markdown",
            "metadata": {},
            "source": [
                "## Task\n",
                "\n",
                "Check sizes of all arrays in `vectors` and return them as answer"
            ]
        },
        {
            "cell_type": "code",
            "execution_count": 11,
            "metadata": {},
            "outputs": [],
            "source": [
                "answer['shapes'] = [\n",
                "    ## YOUR CODE HERE\n",
                "]"
            ]
        },
        {
            "cell_type": "markdown",
            "metadata": {},
            "source": [
                "# 5. Shaping arrays\n",
                "\n",
                "You can flatten or reshape numpy arrays as soon as it has enough elements to fit all the shape\n",
                "\n",
                "For example, vector `x` can be converted to shape `[2, 3]` and `[3, 2]`\n",
                "\n",
                "It is possible to replace one of the dimensionalities with `-1` so that it is dynamically determined from the number of elements of initial tensor"
            ]
        },
        {
            "cell_type": "code",
            "execution_count": 12,
            "metadata": {},
            "outputs": [
                {
                    "name": "stdout",
                    "output_type": "stream",
                    "text": [
                        "x.reshape([2, 3]) :\n",
                        " [[ 0  1  4]\n",
                        " [ 9 16 25]]\n",
                        "x.reshape([3, 2]) :\n",
                        " [[ 0  1]\n",
                        " [ 4  9]\n",
                        " [16 25]]\n",
                        "x.reshape([2, -1]) :\n",
                        " [[ 0  1  4]\n",
                        " [ 9 16 25]]\n",
                        "x.reshape([3, -1]) :\n",
                        " [[ 0  1]\n",
                        " [ 4  9]\n",
                        " [16 25]]\n"
                    ]
                }
            ],
            "source": [
                "print('x.reshape([2, 3]) :\\n', x.reshape([2, 3]))\n",
                "print('x.reshape([3, 2]) :\\n', x.reshape([3, 2]))\n",
                "\n",
                "print('x.reshape([2, -1]) :\\n', x.reshape([2, -1]))\n",
                "print('x.reshape([3, -1]) :\\n', x.reshape([3, -1]))"
            ]
        },
        {
            "cell_type": "markdown",
            "metadata": {},
            "source": [
                "## Task\n",
                "\n",
                "Reshape last vector to the shape `[3, 3]`"
            ]
        },
        {
            "cell_type": "code",
            "execution_count": 13,
            "metadata": {},
            "outputs": [],
            "source": [
                "answer['reshaped'] = [\n",
                "    ## YOUR CODE HERE\n",
                "]"
            ]
        },
        {
            "cell_type": "markdown",
            "metadata": {},
            "source": [
                "# 6. Slicing ND Arrays\n",
                "\n",
                "We have recieved 2D array. You can work in numpy with 1D (vectors), 2D (matrices) and N-dimensional (tensors) arrays in the same way and using the same functions as for 1D arrays with one small exception: you can slice them with several slices.\n",
                "\n",
                "For examplem for array\n",
                "\n",
                "```\n",
                "y = x.reshape([2, 3])\n",
                "```\n",
                "\n",
                "You can do the following slicing:\n",
                "\n",
                "```\n",
                "y[:, 1:]\n",
                "```\n",
                "That will select all the elements from all the rows (1st `:` indexing) and all the elements from the columns starting from 1st colom (second `1:` indexing):"
            ]
        },
        {
            "cell_type": "code",
            "execution_count": 14,
            "metadata": {},
            "outputs": [
                {
                    "name": "stdout",
                    "output_type": "stream",
                    "text": [
                        "y : \n",
                        " [[ 0  1  4]\n",
                        " [ 9 16 25]]\n",
                        "y[:, 1:] :  \n",
                        " [[ 1  4]\n",
                        " [16 25]]\n"
                    ]
                }
            ],
            "source": [
                "y = x.reshape([2, 3])\n",
                "print('y : \\n', y)\n",
                "print('y[:, 1:] :  \\n', y[:, 1:])"
            ]
        },
        {
            "cell_type": "markdown",
            "metadata": {},
            "source": [
                "## Task\n",
                "\n",
                "Reshape your last vector to $3 \\times 3$ matrix and select \n",
                "- first two columns\n",
                "- firts two rows\n",
                "- first and last rows\n",
                "- first and last columns"
            ]
        },
        {
            "cell_type": "code",
            "execution_count": 15,
            "metadata": {},
            "outputs": [],
            "source": [
                "\n",
                "answer['sliced_reshaped'] = [\n",
                "    ## YOUR CODE HERE\n",
                "]   "
            ]
        },
        {
            "cell_type": "markdown",
            "metadata": {},
            "source": [
                "# 6. Changing array dtype"
            ]
        },
        {
            "cell_type": "markdown",
            "metadata": {},
            "source": [
                "You can also change dtype of the arrays, for instance `x.astype('int8')` will convert `x` to `int8`"
            ]
        },
        {
            "cell_type": "code",
            "execution_count": 16,
            "metadata": {},
            "outputs": [
                {
                    "name": "stdout",
                    "output_type": "stream",
                    "text": [
                        "x :  [ 0  1  4  9 16 25]\n",
                        "x.astype('int8') :  [ 0  1  4  9 16 25]\n",
                        "x.astype('int8') :  [False  True  True  True  True  True]\n"
                    ]
                }
            ],
            "source": [
                "print('x : ', x)\n",
                "print(\"x.astype('int8') : \", x.astype('int8'))\n",
                "print(\"x.astype('int8') : \", x.astype('bool'))"
            ]
        },
        {
            "cell_type": "markdown",
            "metadata": {},
            "source": [
                "## Task\n",
                "\n",
                "Turn all of your vectors to boolean and then to float32"
            ]
        },
        {
            "cell_type": "code",
            "execution_count": 17,
            "metadata": {},
            "outputs": [],
            "source": [
                "answer['bool'] = [\n",
                "    ## YOUR CODE HERE\n",
                "]"
            ]
        },
        {
            "cell_type": "markdown",
            "metadata": {},
            "source": [
                "# 7. Very useful visualization\n",
                "\n",
                "There is a very conveniet lib that helps reading large arrays, it is called `lovely_numpy` (and there is `lovely_tensors` for torch tensors)\n",
                "\n",
                "You can print all the important info about your tensor using it:"
            ]
        },
        {
            "cell_type": "code",
            "execution_count": 18,
            "metadata": {},
            "outputs": [
                {
                    "name": "stdout",
                    "output_type": "stream",
                    "text": [
                        "ln.lovely(x) :  array[6] i64 x∈[0, 25] μ=9.167 σ=8.896 [0, 1, 4, 9, 16, 25]\n"
                    ]
                }
            ],
            "source": [
                "import lovely_numpy as ln\n",
                "print('ln.lovely(x) : ', ln.lovely(x))"
            ]
        },
        {
            "cell_type": "markdown",
            "metadata": {},
            "source": [
                "Here \n",
                "- `array[6]` means the array that contains 6 elements\n",
                "- `i64` means int64 type\n",
                "- `x∈[0, 25]` is range of values\n",
                "- `μ=9.167 σ=8.896` is mean and standard deviation for this array"
            ]
        },
        {
            "cell_type": "markdown",
            "metadata": {},
            "source": [
                "## Task\n",
                "\n",
                "Create `lovely_numpy` descriptions for the tensors in answer['vectors']"
            ]
        },
        {
            "cell_type": "code",
            "execution_count": 19,
            "metadata": {},
            "outputs": [],
            "source": [
                "answer['lovely'] = [\n",
                "    ## YOUR CODE HERE\n",
                "]"
            ]
        },
        {
            "cell_type": "markdown",
            "metadata": {},
            "source": [
                "# 8. Operations with arrays"
            ]
        },
        {
            "cell_type": "markdown",
            "metadata": {},
            "source": [
                "You can perform binary elementwise operations with tensors as long as the tensors match in shape\n",
                "\n",
                "For instance, there are the following binary operations:\n",
                "- `+` -- sum\n",
                "- `-` -- difference\n",
                "- `*` -- product\n",
                "- `/` -- fraction\n",
                "- `%` -- calculate remainder\n",
                "- `//` -- whole part of division\n",
                "- `**` -- power\n",
                "- `>` -- comparison\n",
                "\n",
                "And there is whole set of the corresponding inplace operations\n",
                "\n",
                "Actually, you may think of using any python binary operators for numpy arrays"
            ]
        },
        {
            "cell_type": "code",
            "execution_count": null,
            "metadata": {},
            "outputs": [
                {
                    "name": "stdout",
                    "output_type": "stream",
                    "text": [
                        "[           inf 3.00000000e+00 5.00000000e-01 8.13443073e-01\n",
                        " 1.60625000e+01 2.14752365e+03]\n"
                    ]
                },
                {
                    "name": "stderr",
                    "output_type": "stream",
                    "text": [
                        "/var/folders/wl/b3bt1t9j3xg0_d35knd6stzr0000gn/T/ipykernel_26836/1229559742.py:2: RuntimeWarning: divide by zero encountered in divide\n",
                        "  print((x**2 +  2**x)/x**3)\n"
                    ]
                }
            ],
            "source": [
                "(x ** 2 + x ** 3) % 3"
            ]
        },
        {
            "cell_type": "markdown",
            "metadata": {},
            "source": [
                "## Task\n",
                "\n",
                "Calculate the following expression for every vector in `answer['vetors']`:\n",
                "\n",
                "$$(x^2 + 2^x) / x^3$$"
            ]
        },
        {
            "cell_type": "code",
            "execution_count": 35,
            "metadata": {},
            "outputs": [
                {
                    "name": "stderr",
                    "output_type": "stream",
                    "text": [
                        "/var/folders/wl/b3bt1t9j3xg0_d35knd6stzr0000gn/T/ipykernel_26836/264812984.py:2: RuntimeWarning: divide by zero encountered in divide\n",
                        "  (x**2 + 2**x)/x**3\n"
                    ]
                }
            ],
            "source": [
                "answer['expression'] = [\n",
                "    (x**2 + 2**x)/x**3\n",
                "]"
            ]
        },
        {
            "cell_type": "markdown",
            "metadata": {},
            "source": [
                "# 9. Pointwise operations with arrays\n",
                "\n",
                "Lastly, you can perform any elementwise operations with arrays, such as:\n",
                "- $\\sin(x)$\n",
                "- $\\cos(x)$\n",
                "- $\\sqrt{x}$\n",
                "- and many others"
            ]
        },
        {
            "cell_type": "code",
            "execution_count": 32,
            "metadata": {},
            "outputs": [
                {
                    "name": "stdout",
                    "output_type": "stream",
                    "text": [
                        "[ 0.          0.84147098 -0.7568025   0.41211849 -0.28790332 -0.13235175]\n",
                        "[ 1.          0.54030231 -0.65364362 -0.91113026 -0.95765948  0.99120281]\n",
                        "[0. 1. 2. 3. 4. 5.]\n"
                    ]
                }
            ],
            "source": [
                "print(np.sin(x))\n",
                "print(np.cos(x))\n",
                "print(np.sqrt(x))"
            ]
        },
        {
            "cell_type": "markdown",
            "metadata": {},
            "source": [
                "## Task\n",
                "\n",
                "Calculate the following expression for every of the tensors in `answer['vectors']`:\n",
                "$\\sqrt{\\sin^2(x) + \\cos^2(x)}$"
            ]
        },
        {
            "cell_type": "code",
            "execution_count": 33,
            "metadata": {},
            "outputs": [],
            "source": [
                "answer['expression'] = [\n",
                "    np.sqrt(np.power(np.sin(x),2) + np.power(np.cos(x),2))\n",
                "]"
            ]
        },
        {
            "cell_type": "markdown",
            "metadata": {},
            "source": [
                "# 10. Save the answer"
            ]
        },
        {
            "cell_type": "code",
            "execution_count": 36,
            "metadata": {},
            "outputs": [
                {
                    "ename": "ValueError",
                    "evalue": "Out of range float values are not JSON compliant: inf",
                    "output_type": "error",
                    "traceback": [
                        "\u001b[31m---------------------------------------------------------------------------\u001b[39m",
                        "\u001b[31mValueError\u001b[39m                                Traceback (most recent call last)",
                        "\u001b[36mCell\u001b[39m\u001b[36m \u001b[39m\u001b[32mIn[36]\u001b[39m\u001b[32m, line 1\u001b[39m\n\u001b[32m----> \u001b[39m\u001b[32m1\u001b[39m \u001b[43mjson_tricks\u001b[49m\u001b[43m.\u001b[49m\u001b[43mdump\u001b[49m\u001b[43m(\u001b[49m\u001b[43manswer\u001b[49m\u001b[43m,\u001b[49m\u001b[43m \u001b[49m\u001b[33;43m'\u001b[39;49m\u001b[33;43m.answer.json\u001b[39;49m\u001b[33;43m'\u001b[39;49m\u001b[43m)\u001b[49m\n",
                        "\u001b[36mFile \u001b[39m\u001b[32m~/Desktop/Harbour.Space/math-foundations-for-ml-course-solutions-by-nijat-akhundzada/env/lib/python3.13/site-packages/json_tricks/nonp.py:151\u001b[39m, in \u001b[36mdump\u001b[39m\u001b[34m(obj, fp, sort_keys, cls, obj_encoders, extra_obj_encoders, primitives, compression, force_flush, allow_nan, conv_str_byte, fallback_encoders, properties, **jsonkwargs)\u001b[39m\n\u001b[32m    149\u001b[39m \u001b[38;5;28;01mif\u001b[39;00m (\u001b[38;5;28misinstance\u001b[39m(obj, str_type) \u001b[38;5;129;01mor\u001b[39;00m \u001b[38;5;28mhasattr\u001b[39m(obj, \u001b[33m'\u001b[39m\u001b[33mwrite\u001b[39m\u001b[33m'\u001b[39m)) \u001b[38;5;129;01mand\u001b[39;00m \u001b[38;5;28misinstance\u001b[39m(fp, (\u001b[38;5;28mlist\u001b[39m, \u001b[38;5;28mdict\u001b[39m)):\n\u001b[32m    150\u001b[39m \t\u001b[38;5;28;01mraise\u001b[39;00m \u001b[38;5;167;01mValueError\u001b[39;00m(\u001b[33m'\u001b[39m\u001b[33mjson-tricks dump arguments are in the wrong order: provide the data to be serialized before file handle\u001b[39m\u001b[33m'\u001b[39m)\n\u001b[32m--> \u001b[39m\u001b[32m151\u001b[39m txt = \u001b[43mdumps\u001b[49m\u001b[43m(\u001b[49m\u001b[43mobj\u001b[49m\u001b[43m,\u001b[49m\u001b[43m \u001b[49m\u001b[43msort_keys\u001b[49m\u001b[43m=\u001b[49m\u001b[43msort_keys\u001b[49m\u001b[43m,\u001b[49m\u001b[43m \u001b[49m\u001b[38;5;28;43mcls\u001b[39;49m\u001b[43m=\u001b[49m\u001b[38;5;28;43mcls\u001b[39;49m\u001b[43m,\u001b[49m\u001b[43m \u001b[49m\u001b[43mobj_encoders\u001b[49m\u001b[43m=\u001b[49m\u001b[43mobj_encoders\u001b[49m\u001b[43m,\u001b[49m\u001b[43m \u001b[49m\u001b[43mextra_obj_encoders\u001b[49m\u001b[43m=\u001b[49m\u001b[43mextra_obj_encoders\u001b[49m\u001b[43m,\u001b[49m\n\u001b[32m    152\u001b[39m \u001b[43m\t\u001b[49m\u001b[43mprimitives\u001b[49m\u001b[43m=\u001b[49m\u001b[43mprimitives\u001b[49m\u001b[43m,\u001b[49m\u001b[43m \u001b[49m\u001b[43mcompression\u001b[49m\u001b[43m=\u001b[49m\u001b[43mcompression\u001b[49m\u001b[43m,\u001b[49m\u001b[43m \u001b[49m\u001b[43mallow_nan\u001b[49m\u001b[43m=\u001b[49m\u001b[43mallow_nan\u001b[49m\u001b[43m,\u001b[49m\u001b[43m \u001b[49m\u001b[43mconv_str_byte\u001b[49m\u001b[43m=\u001b[49m\u001b[43mconv_str_byte\u001b[49m\u001b[43m,\u001b[49m\n\u001b[32m    153\u001b[39m \u001b[43m\t\u001b[49m\u001b[43mfallback_encoders\u001b[49m\u001b[43m=\u001b[49m\u001b[43mfallback_encoders\u001b[49m\u001b[43m,\u001b[49m\u001b[43m \u001b[49m\u001b[43mproperties\u001b[49m\u001b[43m=\u001b[49m\u001b[43mproperties\u001b[49m\u001b[43m,\u001b[49m\u001b[43m \u001b[49m\u001b[43m*\u001b[49m\u001b[43m*\u001b[49m\u001b[43mjsonkwargs\u001b[49m\u001b[43m)\u001b[49m\n\u001b[32m    154\u001b[39m \u001b[38;5;28;01mif\u001b[39;00m \u001b[38;5;28misinstance\u001b[39m(fp, str_type):\n\u001b[32m    155\u001b[39m \t\u001b[38;5;28;01mif\u001b[39;00m compression:\n",
                        "\u001b[36mFile \u001b[39m\u001b[32m~/Desktop/Harbour.Space/math-foundations-for-ml-course-solutions-by-nijat-akhundzada/env/lib/python3.13/site-packages/json_tricks/nonp.py:125\u001b[39m, in \u001b[36mdumps\u001b[39m\u001b[34m(obj, sort_keys, cls, obj_encoders, extra_obj_encoders, primitives, compression, allow_nan, conv_str_byte, fallback_encoders, properties, **jsonkwargs)\u001b[39m\n\u001b[32m    121\u001b[39m \t\u001b[38;5;28mcls\u001b[39m = TricksEncoder\n\u001b[32m    122\u001b[39m combined_encoder = \u001b[38;5;28mcls\u001b[39m(sort_keys=sort_keys, obj_encoders=encoders, allow_nan=allow_nan,\n\u001b[32m    123\u001b[39m \tprimitives=primitives, fallback_encoders=fallback_encoders,\n\u001b[32m    124\u001b[39m   \tproperties=properties, **jsonkwargs)\n\u001b[32m--> \u001b[39m\u001b[32m125\u001b[39m txt = \u001b[43mcombined_encoder\u001b[49m\u001b[43m.\u001b[49m\u001b[43mencode\u001b[49m\u001b[43m(\u001b[49m\u001b[43mobj\u001b[49m\u001b[43m)\u001b[49m\n\u001b[32m    126\u001b[39m \u001b[38;5;28;01mif\u001b[39;00m \u001b[38;5;129;01mnot\u001b[39;00m is_py3 \u001b[38;5;129;01mand\u001b[39;00m \u001b[38;5;28misinstance\u001b[39m(txt, \u001b[38;5;28mstr\u001b[39m):\n\u001b[32m    127\u001b[39m \ttxt = unicode(txt, ENCODING)\n",
                        "\u001b[36mFile \u001b[39m\u001b[32m/opt/homebrew/Cellar/python@3.13/3.13.2/Frameworks/Python.framework/Versions/3.13/lib/python3.13/json/encoder.py:200\u001b[39m, in \u001b[36mJSONEncoder.encode\u001b[39m\u001b[34m(self, o)\u001b[39m\n\u001b[32m    196\u001b[39m         \u001b[38;5;28;01mreturn\u001b[39;00m encode_basestring(o)\n\u001b[32m    197\u001b[39m \u001b[38;5;66;03m# This doesn't pass the iterator directly to ''.join() because the\u001b[39;00m\n\u001b[32m    198\u001b[39m \u001b[38;5;66;03m# exceptions aren't as detailed.  The list call should be roughly\u001b[39;00m\n\u001b[32m    199\u001b[39m \u001b[38;5;66;03m# equivalent to the PySequence_Fast that ''.join() would do.\u001b[39;00m\n\u001b[32m--> \u001b[39m\u001b[32m200\u001b[39m chunks = \u001b[38;5;28;43mself\u001b[39;49m\u001b[43m.\u001b[49m\u001b[43miterencode\u001b[49m\u001b[43m(\u001b[49m\u001b[43mo\u001b[49m\u001b[43m,\u001b[49m\u001b[43m \u001b[49m\u001b[43m_one_shot\u001b[49m\u001b[43m=\u001b[49m\u001b[38;5;28;43;01mTrue\u001b[39;49;00m\u001b[43m)\u001b[49m\n\u001b[32m    201\u001b[39m \u001b[38;5;28;01mif\u001b[39;00m \u001b[38;5;129;01mnot\u001b[39;00m \u001b[38;5;28misinstance\u001b[39m(chunks, (\u001b[38;5;28mlist\u001b[39m, \u001b[38;5;28mtuple\u001b[39m)):\n\u001b[32m    202\u001b[39m     chunks = \u001b[38;5;28mlist\u001b[39m(chunks)\n",
                        "\u001b[36mFile \u001b[39m\u001b[32m/opt/homebrew/Cellar/python@3.13/3.13.2/Frameworks/Python.framework/Versions/3.13/lib/python3.13/json/encoder.py:261\u001b[39m, in \u001b[36mJSONEncoder.iterencode\u001b[39m\u001b[34m(self, o, _one_shot)\u001b[39m\n\u001b[32m    256\u001b[39m \u001b[38;5;28;01melse\u001b[39;00m:\n\u001b[32m    257\u001b[39m     _iterencode = _make_iterencode(\n\u001b[32m    258\u001b[39m         markers, \u001b[38;5;28mself\u001b[39m.default, _encoder, indent, floatstr,\n\u001b[32m    259\u001b[39m         \u001b[38;5;28mself\u001b[39m.key_separator, \u001b[38;5;28mself\u001b[39m.item_separator, \u001b[38;5;28mself\u001b[39m.sort_keys,\n\u001b[32m    260\u001b[39m         \u001b[38;5;28mself\u001b[39m.skipkeys, _one_shot)\n\u001b[32m--> \u001b[39m\u001b[32m261\u001b[39m \u001b[38;5;28;01mreturn\u001b[39;00m \u001b[43m_iterencode\u001b[49m\u001b[43m(\u001b[49m\u001b[43mo\u001b[49m\u001b[43m,\u001b[49m\u001b[43m \u001b[49m\u001b[32;43m0\u001b[39;49m\u001b[43m)\u001b[49m\n",
                        "\u001b[31mValueError\u001b[39m: Out of range float values are not JSON compliant: inf"
                    ]
                }
            ],
            "source": [
                "json_tricks.dump(answer, '.answer.json')"
            ]
        }
    ],
    "metadata": {
        "kernelspec": {
            "display_name": "env",
            "language": "python",
            "name": "python3"
        },
        "language_info": {
            "codemirror_mode": {
                "name": "ipython",
                "version": 3
            },
            "file_extension": ".py",
            "mimetype": "text/x-python",
            "name": "python",
            "nbconvert_exporter": "python",
            "pygments_lexer": "ipython3",
            "version": "3.13.2"
        }
    },
    "nbformat": 4,
    "nbformat_minor": 2
}
